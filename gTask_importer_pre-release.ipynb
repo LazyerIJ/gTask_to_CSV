{
 "cells": [
  {
   "cell_type": "markdown",
   "metadata": {},
   "source": [
    "### Get Tasklists from Quickstart"
   ]
  },
  {
   "cell_type": "code",
   "execution_count": 12,
   "metadata": {
    "ExecuteTime": {
     "end_time": "2019-09-30T13:12:41.262605Z",
     "start_time": "2019-09-30T13:12:38.716291Z"
    }
   },
   "outputs": [],
   "source": [
    "from __future__ import print_function\n",
    "import pickle\n",
    "import os.path\n",
    "from googleapiclient.discovery import build\n",
    "from google_auth_oauthlib.flow import InstalledAppFlow\n",
    "from google.auth.transport.requests import Request\n",
    "import pandas as pd\n",
    "\n",
    "def get_tasklists():\n",
    "    # If modifying these scopes, delete the file token.pickle.\n",
    "    SCOPES = ['https://www.googleapis.com/auth/tasks.readonly']\n",
    "\n",
    "    \"\"\"Shows basic usage of the Tasks API.\n",
    "    Prints the title and ID of the first 10 task lists.\n",
    "    \"\"\"\n",
    "    creds = None\n",
    "    # The file token.pickle stores the user's access and refresh tokens, and is\n",
    "    # created automatically when the authorization flow completes for the first\n",
    "    # time.\n",
    "    if os.path.exists('token.pickle'):\n",
    "        with open('token.pickle', 'rb') as token:\n",
    "            creds = pickle.load(token)\n",
    "    # If there are no (valid) credentials available, let the user log in.\n",
    "    if not creds or not creds.valid:\n",
    "        if creds and creds.expired and creds.refresh_token:\n",
    "            creds.refresh(Request())\n",
    "        else:\n",
    "            flow = InstalledAppFlow.from_client_secrets_file(\n",
    "                'credentials.json', SCOPES)\n",
    "            creds = flow.run_local_server(port=0)\n",
    "        # Save the credentials for the next run\n",
    "        with open('token.pickle', 'wb') as token:\n",
    "            pickle.dump(creds, token)\n",
    "\n",
    "    service = build('tasks', 'v1', credentials=creds)\n",
    "\n",
    "    # Call the Tasks API\n",
    "    results = service.tasklists().list().execute()\n",
    "    items = results.get('items', [])\n",
    "\n",
    "    if not items:\n",
    "        print('No task lists found.')\n",
    "    else:\n",
    "        print('Task lists found')\n",
    "        return items"
   ]
  },
  {
   "cell_type": "code",
   "execution_count": 13,
   "metadata": {
    "ExecuteTime": {
     "end_time": "2019-09-30T13:12:42.760230Z",
     "start_time": "2019-09-30T13:12:41.276402Z"
    }
   },
   "outputs": [
    {
     "name": "stdout",
     "output_type": "stream",
     "text": [
      "Task lists found\n"
     ]
    }
   ],
   "source": [
    "items = get_tasklists()"
   ]
  },
  {
   "cell_type": "markdown",
   "metadata": {},
   "source": [
    "### Get Tasks from Tasklists"
   ]
  },
  {
   "cell_type": "code",
   "execution_count": 14,
   "metadata": {
    "ExecuteTime": {
     "end_time": "2019-09-30T13:12:44.352500Z",
     "start_time": "2019-09-30T13:12:44.344975Z"
    }
   },
   "outputs": [],
   "source": [
    "GLOBAL_COUNTER = 0\n",
    "# (tasklist=*, showCompleted=None, dueMin=None, dueMax=None, pageToken=None, updatedMin=None, showDeleted=None, completedMax=None, maxResults=None, completedMin=None, showHidden=None)\n",
    "def get_tasks_from_tasklist(task_list_id, task_list_title):\n",
    "    df = pd.DataFrame()\n",
    "    next_page_token = None\n",
    "    global GLOBAL_COUNTER\n",
    "    while (True):\n",
    "        task_results = service.tasks().list(tasklist=task_list_id, pageToken=next_page_token).execute()\n",
    "        df = df.append(pd.DataFrame.from_dict(task_results['items']))\n",
    "        GLOBAL_COUNTER = GLOBAL_COUNTER + len(task_results['items'])\n",
    "        try:\n",
    "            next_page_token = task_results['nextPageToken']\n",
    "        except:\n",
    "            return df"
   ]
  },
  {
   "cell_type": "markdown",
   "metadata": {},
   "source": [
    "### Modify dataframe form"
   ]
  },
  {
   "cell_type": "code",
   "execution_count": 125,
   "metadata": {
    "ExecuteTime": {
     "end_time": "2019-09-13T11:59:20.760832Z",
     "start_time": "2019-09-13T11:59:20.756379Z"
    }
   },
   "outputs": [],
   "source": [
    "def preprocess_df(df):\n",
    "    df1 = df\n",
    "    df2 = df[['id', 'title']].rename(columns={'id': 'parent','title': 'parent_title'})\n",
    "    df3 = df1.merge(df2, on='parent', how ='left')\n",
    "    df3['category']=task_list_title\n",
    "    df3 = df3.sort_values(by='parent_title')\n",
    "    return df3[['category','parent_title', 'title', 'notes', 'updated', 'selfLink']]"
   ]
  },
  {
   "cell_type": "code",
   "execution_count": null,
   "metadata": {},
   "outputs": [],
   "source": [
    "preprocess_df(df)"
   ]
  },
  {
   "cell_type": "markdown",
   "metadata": {},
   "source": [
    "### Combine functions to make CSV file "
   ]
  },
  {
   "cell_type": "code",
   "execution_count": 135,
   "metadata": {
    "ExecuteTime": {
     "end_time": "2019-09-13T12:18:27.321752Z",
     "start_time": "2019-09-13T12:16:38.471303Z"
    }
   },
   "outputs": [
    {
     "name": "stdout",
     "output_type": "stream",
     "text": [
      "Task lists found\n"
     ]
    },
    {
     "name": "stderr",
     "output_type": "stream",
     "text": [
      "/anaconda3/envs/gcp/lib/python3.7/site-packages/pandas/core/frame.py:7123: FutureWarning: Sorting because non-concatenation axis is not aligned. A future version\n",
      "of pandas will change to not sort by default.\n",
      "\n",
      "To accept the future behavior, pass 'sort=False'.\n",
      "\n",
      "To retain the current behavior and silence the warning, pass 'sort=True'.\n",
      "\n",
      "  sort=sort,\n"
     ]
    }
   ],
   "source": [
    "### Initialize Dataframe\n",
    "df_result = pd.DataFrame()\n",
    "\n",
    "### Get Tasklists from Quickstart\n",
    "items = get_tasklists()\n",
    "for item in items:\n",
    "    ### Get Tasks from Tasklists\n",
    "    # function call\n",
    "    df_result = df_result.append(get_tasks_from_tasklist(item['id'], item['title']))\n",
    "\n",
    "### Modify dataframe form\n",
    "df_result = preprocess_df(df_result)\n",
    "df_result.to_csv('gTasks.csv', sep='\\t', encoding='utf-8')"
   ]
  },
  {
   "cell_type": "code",
   "execution_count": 129,
   "metadata": {
    "ExecuteTime": {
     "end_time": "2019-09-13T12:09:37.775870Z",
     "start_time": "2019-09-13T12:09:37.640008Z"
    }
   },
   "outputs": [
    {
     "name": "stdout",
     "output_type": "stream",
     "text": [
      "credentials.json     gTasks.csv           token.pickle\r\n",
      "gTask_importer.ipynb quickstart.py\r\n"
     ]
    }
   ],
   "source": [
    "!ls"
   ]
  },
  {
   "cell_type": "markdown",
   "metadata": {},
   "source": [
    "### Verify the result"
   ]
  },
  {
   "cell_type": "code",
   "execution_count": 136,
   "metadata": {
    "ExecuteTime": {
     "end_time": "2019-09-13T12:21:18.772017Z",
     "start_time": "2019-09-13T12:21:18.768653Z"
    }
   },
   "outputs": [
    {
     "name": "stdout",
     "output_type": "stream",
     "text": [
      "1245 1245\n"
     ]
    }
   ],
   "source": [
    "print (len(df_result), str(GLOBAL_COUNTER))"
   ]
  },
  {
   "cell_type": "code",
   "execution_count": null,
   "metadata": {},
   "outputs": [],
   "source": []
  }
 ],
 "metadata": {
  "hide_input": false,
  "kernelspec": {
   "display_name": "Python 3",
   "language": "python",
   "name": "python3"
  },
  "language_info": {
   "codemirror_mode": {
    "name": "ipython",
    "version": 3
   },
   "file_extension": ".py",
   "mimetype": "text/x-python",
   "name": "python",
   "nbconvert_exporter": "python",
   "pygments_lexer": "ipython3",
   "version": "3.7.4"
  },
  "nbTranslate": {
   "displayLangs": [
    "*"
   ],
   "hotkey": "alt-t",
   "langInMainMenu": true,
   "sourceLang": "en",
   "targetLang": "fr",
   "useGoogleTranslate": true
  },
  "toc": {
   "base_numbering": 1,
   "nav_menu": {},
   "number_sections": true,
   "sideBar": true,
   "skip_h1_title": false,
   "title_cell": "Table of Contents",
   "title_sidebar": "Contents",
   "toc_cell": false,
   "toc_position": {},
   "toc_section_display": true,
   "toc_window_display": false
  },
  "varInspector": {
   "cols": {
    "lenName": 16,
    "lenType": 16,
    "lenVar": 40
   },
   "kernels_config": {
    "python": {
     "delete_cmd_postfix": "",
     "delete_cmd_prefix": "del ",
     "library": "var_list.py",
     "varRefreshCmd": "print(var_dic_list())"
    },
    "r": {
     "delete_cmd_postfix": ") ",
     "delete_cmd_prefix": "rm(",
     "library": "var_list.r",
     "varRefreshCmd": "cat(var_dic_list()) "
    }
   },
   "oldHeight": 191,
   "position": {
    "height": "40px",
    "left": "1076px",
    "right": "20px",
    "top": "120px",
    "width": "316px"
   },
   "types_to_exclude": [
    "module",
    "function",
    "builtin_function_or_method",
    "instance",
    "_Feature"
   ],
   "varInspector_section_display": "none",
   "window_display": true
  }
 },
 "nbformat": 4,
 "nbformat_minor": 2
}
